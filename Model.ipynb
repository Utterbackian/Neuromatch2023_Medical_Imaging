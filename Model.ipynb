{
 "cells": [
  {
   "cell_type": "markdown",
   "metadata": {},
   "source": [
    "<a href=\"https://colab.research.google.com/github/Utterbackian/Neuromatch2023_Medical_Imaging/blob/main/Model.ipynb\" target=\"_parent\"><img src=\"https://colab.research.google.com/assets/colab-badge.svg\" alt=\"Open In Colab\"/></a>"
   ]
  },
  {
   "cell_type": "code",
   "execution_count": 139,
   "metadata": {},
   "outputs": [],
   "source": [
    "import torch\n",
    "import torch.nn as nn\n",
    "import torch.optim as optim\n",
    "import matplotlib.pyplot as plt\n",
    "import pandas as pd\n",
    "import numpy as np\n",
    "import os\n",
    "import shutil"
   ]
  },
  {
   "cell_type": "code",
   "execution_count": 140,
   "metadata": {},
   "outputs": [],
   "source": [
    "path = \"../eeg_5_95_std.pth\"\n",
    "loaded_object_5_95 = torch.load(path) \n",
    "\n",
    "# Uncomment for google colab \n",
    "\n",
    "# from google.colab import drive\n",
    "# drive.mount('/content/drive')\n",
    "\n",
    "# file_path = '/content/drive/MyDrive/data/eeg_5_95_std.pth'\n",
    "# loaded_object_5_95 = torch.load(file_path)"
   ]
  },
  {
   "cell_type": "markdown",
   "metadata": {},
   "source": [
    "## Indexing"
   ]
  },
  {
   "cell_type": "code",
   "execution_count": 141,
   "metadata": {},
   "outputs": [],
   "source": [
    "def indexing(field):\n",
    "    idx_dict = {}\n",
    "    for i, image in enumerate(loaded_object_5_95[field]):\n",
    "        idx_dict[i] = image\n",
    "    return idx_dict"
   ]
  },
  {
   "cell_type": "code",
   "execution_count": 142,
   "metadata": {},
   "outputs": [],
   "source": [
    "for EEG in loaded_object_5_95['dataset']:\n",
    "    indexed_labels = indexing(\"labels\")\n",
    "    indexed_images = indexing(\"images\")\n",
    "    EEG['image'] = indexed_images[EEG['image']]\n",
    "    EEG['label'] = indexed_labels[EEG['label']]"
   ]
  },
  {
   "cell_type": "markdown",
   "metadata": {},
   "source": [
    "## LSTM Encoder"
   ]
  },
  {
   "cell_type": "code",
   "execution_count": 143,
   "metadata": {},
   "outputs": [],
   "source": [
    "import torch\n",
    "import torch.nn as nn\n",
    "\n",
    "class LSTMEncoder(nn.Module):\n",
    "    def __init__(self, input_size, hidden_size, num_layers, bidirectional=False):\n",
    "        super(LSTMEncoder, self).__init__()\n",
    "        self.lstm = nn.LSTM(input_size, hidden_size, num_layers, bidirectional=bidirectional, batch_first=True)\n",
    "        self.fc = nn.Linear(hidden_size * 2 if bidirectional else hidden_size, 128)  # Output 128 units for 1D output\n",
    "\n",
    "    def forward(self, x):\n",
    "        # x: Input sequence of shape (batch_size, seq_length, input_size)\n",
    "        # Output shape: (batch_size, 128)\n",
    "\n",
    "        # Pass the input sequence through the LSTM layer\n",
    "        lstm_output, _ = self.lstm(x)\n",
    "\n",
    "        # Use AdaptiveAvgPool1d to handle variable sequence lengths\n",
    "        lstm_output = nn.AdaptiveAvgPool1d(1)(lstm_output.permute(0, 2, 1)).squeeze(2)\n",
    "\n",
    "        # Pass through the fully connected layer for 1D output\n",
    "        output = self.fc(lstm_output)\n",
    "\n",
    "        return output"
   ]
  },
  {
   "cell_type": "code",
   "execution_count": 144,
   "metadata": {},
   "outputs": [],
   "source": [
    "input_size = 491\n",
    "hidden_size = 128  # Dimension of the hidden states in the LSTM\n",
    "num_layers = 2  # Number of LSTM layers\n",
    "bidirectional = True  # Whether to use bidirectional LSTMs or not\n",
    "batch_size = 5\n",
    "eeg_data = loaded_object_5_95['dataset'][0]['eeg'] # one eeg sequence"
   ]
  },
  {
   "cell_type": "markdown",
   "metadata": {},
   "source": [
    "## Add Noise"
   ]
  },
  {
   "cell_type": "code",
   "execution_count": 145,
   "metadata": {},
   "outputs": [],
   "source": [
    "def addNoise(output, sigma=0.1):\n",
    "    # Generate Gaussian noise with the same shape as the encoded vector\n",
    "    noise = torch.randn_like(output) * sigma\n",
    "\n",
    "    # Add the noise to the encoded vector\n",
    "    return torch.cat((output, noise), axis=1)"
   ]
  },
  {
   "cell_type": "code",
   "execution_count": 146,
   "metadata": {},
   "outputs": [
    {
     "data": {
      "text/plain": [
       "<torch._C.Generator at 0x15ffff0b410>"
      ]
     },
     "execution_count": 146,
     "metadata": {},
     "output_type": "execute_result"
    }
   ],
   "source": [
    "torch.manual_seed(2023)"
   ]
  },
  {
   "cell_type": "code",
   "execution_count": 147,
   "metadata": {},
   "outputs": [],
   "source": [
    "# makes all eeg 128, 500\n",
    "\n",
    "# CHANGE IT TO 491 \n",
    "for i in loaded_object_5_95['dataset']:\n",
    "    i['eeg'].resize_(128, 491)"
   ]
  },
  {
   "cell_type": "code",
   "execution_count": 148,
   "metadata": {},
   "outputs": [],
   "source": [
    "# CURRENTLY THIS CODE CAUSES VSCODE TO CRASH\n",
    "#                  |\n",
    "#                  |\n",
    "#                  V\n",
    "\n",
    "def process_eeg(eeg_data):\n",
    "    #device = torch.device(\"cuda\" if torch.cuda.is_available() else \"cpu\")\n",
    "\n",
    "    eeg_data = eeg_data.view(1, hidden_size, input_size)#.to(device)\n",
    "    eeg_data = encoder(eeg_data)\n",
    "    return addNoise(eeg_data)"
   ]
  },
  {
   "cell_type": "code",
   "execution_count": 149,
   "metadata": {},
   "outputs": [],
   "source": [
    "encoder = LSTMEncoder(491, hidden_size, num_layers, bidirectional)\n",
    "\n",
    "encoded_data = []\n",
    "for i in loaded_object_5_95['dataset'][:500]:\n",
    "    encoded_data.append([i['image'], process_eeg(i['eeg'])])"
   ]
  },
  {
   "cell_type": "markdown",
   "metadata": {},
   "source": [
    "## Dataset"
   ]
  },
  {
   "cell_type": "code",
   "execution_count": 151,
   "metadata": {},
   "outputs": [],
   "source": [
    "import glob\n",
    "import cv2\n",
    "from torch.utils.data import Dataset, DataLoader"
   ]
  },
  {
   "cell_type": "code",
   "execution_count": 152,
   "metadata": {},
   "outputs": [],
   "source": [
    "class CustomDataset(Dataset):\n",
    "    def __init__(self):\n",
    "        \n",
    "        # Uncomment for local\n",
    "        # self.imgs_path = \"../filtered/\"\n",
    "\n",
    "        # # Uncomment for google colab\n",
    "        # # self.imgs_path = '/content/drive/MyDrive/filtered/'\n",
    "\n",
    "        # file_list = glob.glob(self.imgs_path + \"*\")\n",
    "\n",
    "        # print(file_list)\n",
    "        self.data = []\n",
    "        for eeg in encoded_data:\n",
    "            class_path = \"../filtered/\" + eeg[0] + \".JPEG\"\n",
    "            self.data.append([class_path, eeg[1]])\n",
    "        # for class_path in file_list:\n",
    "        #     class_name = class_path.split(\"\\\\\")[-1]\n",
    "        #     self.data.append([class_path, class_name.split()[0]])\n",
    "        self.img_dim = (64, 64)\n",
    "\n",
    "    def __len__(self):\n",
    "        return len(self.data)\n",
    "\n",
    "    def __getitem__(self, idx):\n",
    "        img_path = self.data[idx][0]\n",
    "        img = cv2.imread(img_path)\n",
    "        img = cv2.resize(img, self.img_dim)\n",
    "        img_tensor = torch.from_numpy(img)\n",
    "        return img_tensor.float().permute(2,0,1), self.data[idx][-1]\n",
    "    \n",
    "# dataset = CustomDataset()\n",
    "# dataloader = DataLoader(dataset, batch_size=128, shuffle=True)"
   ]
  },
  {
   "cell_type": "markdown",
   "metadata": {},
   "source": [
    "## Model"
   ]
  },
  {
   "cell_type": "code",
   "execution_count": 153,
   "metadata": {},
   "outputs": [
    {
     "name": "stdout",
     "output_type": "stream",
     "text": [
      "Success, tests passed!\n"
     ]
    }
   ],
   "source": [
    "import torch\n",
    "import torch.nn as nn\n",
    "\n",
    "\n",
    "class Discriminator(nn.Module):\n",
    "    def __init__(self, channels_img, features_d):\n",
    "        super(Discriminator, self).__init__()\n",
    "        self.disc = nn.Sequential(\n",
    "            # input: N x channels_img x 64 x 64\n",
    "            nn.Conv2d(channels_img, features_d, kernel_size=4, stride=2, padding=1),\n",
    "            nn.LeakyReLU(0.2),\n",
    "            # _block(in_channels, out_channels, kernel_size, stride, padding)\n",
    "            self._block(features_d, features_d * 2, 4, 2, 1),\n",
    "            self._block(features_d * 2, features_d * 4, 4, 2, 1),\n",
    "            self._block(features_d * 4, features_d * 8, 4, 2, 1),\n",
    "            # After all _block img output is 4x4 (Conv2d below makes into 1x1)\n",
    "            nn.Conv2d(features_d * 8, 1, kernel_size=4, stride=2, padding=0),\n",
    "            nn.Sigmoid(),\n",
    "        )\n",
    "\n",
    "    def _block(self, in_channels, out_channels, kernel_size, stride, padding):\n",
    "        return nn.Sequential(\n",
    "            nn.Conv2d(\n",
    "                in_channels,\n",
    "                out_channels,\n",
    "                kernel_size,\n",
    "                stride,\n",
    "                padding,\n",
    "                bias=False,\n",
    "            ),\n",
    "            # nn.BatchNorm2d(out_channels),\n",
    "            nn.LeakyReLU(0.2),\n",
    "        )\n",
    "\n",
    "    def forward(self, x):\n",
    "        return self.disc(x)\n",
    "\n",
    "\n",
    "class Generator(nn.Module):\n",
    "    def __init__(self, channels_noise, channels_img, features_g):\n",
    "        super(Generator, self).__init__()\n",
    "        self.net = nn.Sequential(\n",
    "            # Input: N x channels_noise x 1 x 1\n",
    "            self._block(channels_noise, features_g * 16, 4, 1, 0),  # img: 4x4\n",
    "            self._block(features_g * 16, features_g * 8, 4, 2, 1),  # img: 8x8\n",
    "            self._block(features_g * 8, features_g * 4, 4, 2, 1),  # img: 16x16\n",
    "            self._block(features_g * 4, features_g * 2, 4, 2, 1),  # img: 32x32\n",
    "            nn.ConvTranspose2d(\n",
    "                features_g * 2, channels_img, kernel_size=4, stride=2, padding=1\n",
    "            ),\n",
    "            # Output: N x channels_img x 64 x 64\n",
    "            nn.Tanh(),\n",
    "        )\n",
    "\n",
    "    def _block(self, in_channels, out_channels, kernel_size, stride, padding):\n",
    "        return nn.Sequential(\n",
    "            nn.ConvTranspose2d(\n",
    "                in_channels,\n",
    "                out_channels,\n",
    "                kernel_size,\n",
    "                stride,\n",
    "                padding,\n",
    "                bias=False,\n",
    "            ),\n",
    "            # nn.BatchNorm2d(out_channels),\n",
    "            nn.ReLU(),\n",
    "        )\n",
    "\n",
    "    def forward(self, x):\n",
    "        return self.net(x)\n",
    "\n",
    "\n",
    "def initialize_weights(model):\n",
    "    # Initializes weights according to the DCGAN paper\n",
    "    for m in model.modules():\n",
    "        if isinstance(m, (nn.Conv2d, nn.ConvTranspose2d, nn.BatchNorm2d)):\n",
    "            nn.init.normal_(m.weight.data, 0.0, 0.02)\n",
    "\n",
    "\n",
    "def test():\n",
    "    N, in_channels, H, W = 8, 3, 64, 64\n",
    "    noise_dim = 256\n",
    "    x = torch.randn((N, in_channels, H, W))\n",
    "    disc = Discriminator(in_channels, 8)\n",
    "    assert disc(x).shape == (N, 1, 1, 1), \"Discriminator test failed\"\n",
    "    gen = Generator(noise_dim, in_channels, 8)\n",
    "    z = torch.randn((N, noise_dim, 1, 1))\n",
    "    assert gen(z).shape == (N, in_channels, H, W), \"Generator test failed\"\n",
    "    print(\"Success, tests passed!\")\n",
    "\n",
    "\n",
    "if __name__ == \"__main__\":\n",
    "    test()"
   ]
  },
  {
   "cell_type": "code",
   "execution_count": 154,
   "metadata": {},
   "outputs": [
    {
     "name": "stdout",
     "output_type": "stream",
     "text": [
      "Epoch [0/5] Batch 0/500                   Loss D: 1.9180, loss G: 0.6302\n",
      "Epoch [0/5] Batch 100/500                   Loss D: 0.0033, loss G: 5.0939\n",
      "Epoch [0/5] Batch 200/500                   Loss D: 0.0008, loss G: 6.4343\n",
      "Epoch [0/5] Batch 300/500                   Loss D: 0.0003, loss G: 7.6079\n",
      "Epoch [0/5] Batch 400/500                   Loss D: 0.0001, loss G: 8.2385\n",
      "Epoch [1/5] Batch 0/500                   Loss D: 0.0001, loss G: 8.7205\n",
      "Epoch [1/5] Batch 100/500                   Loss D: 0.0001, loss G: 9.1320\n",
      "Epoch [1/5] Batch 200/500                   Loss D: 0.0000, loss G: 9.4491\n",
      "Epoch [1/5] Batch 300/500                   Loss D: 0.0000, loss G: 9.7644\n",
      "Epoch [1/5] Batch 400/500                   Loss D: 50.0000, loss G: 0.0000\n",
      "Epoch [2/5] Batch 0/500                   Loss D: 50.0000, loss G: 0.0000\n",
      "Epoch [2/5] Batch 100/500                   Loss D: 50.0000, loss G: 0.0000\n",
      "Epoch [2/5] Batch 200/500                   Loss D: 50.0000, loss G: 0.0000\n",
      "Epoch [2/5] Batch 300/500                   Loss D: 50.0000, loss G: 0.0000\n",
      "Epoch [2/5] Batch 400/500                   Loss D: 50.0000, loss G: 0.0000\n",
      "Epoch [3/5] Batch 0/500                   Loss D: 50.0000, loss G: 0.0000\n",
      "Epoch [3/5] Batch 100/500                   Loss D: 50.0000, loss G: 0.0000\n",
      "Epoch [3/5] Batch 200/500                   Loss D: 50.0000, loss G: 0.0000\n",
      "Epoch [3/5] Batch 300/500                   Loss D: 50.0000, loss G: 0.0000\n",
      "Epoch [3/5] Batch 400/500                   Loss D: 50.0000, loss G: 0.0000\n",
      "Epoch [4/5] Batch 0/500                   Loss D: 50.0000, loss G: 0.0000\n",
      "Epoch [4/5] Batch 100/500                   Loss D: 50.0000, loss G: 0.0000\n",
      "Epoch [4/5] Batch 200/500                   Loss D: 50.0000, loss G: 0.0000\n",
      "Epoch [4/5] Batch 300/500                   Loss D: 50.0000, loss G: 0.0000\n",
      "Epoch [4/5] Batch 400/500                   Loss D: 50.0000, loss G: 0.0000\n"
     ]
    }
   ],
   "source": [
    "import torch\n",
    "import torch.nn as nn\n",
    "import torch.optim as optim\n",
    "import torchvision\n",
    "import torchvision.datasets as datasets\n",
    "import torchvision.transforms as transforms\n",
    "from torch.utils.data import DataLoader\n",
    "from torch.utils.tensorboard import SummaryWriter\n",
    "\n",
    "# Hyperparameters etc.\n",
    "device = torch.device(\"cuda\" if torch.cuda.is_available() else \"cpu\")\n",
    "LEARNING_RATE = 2e-4  # could also use two lrs, one for gen and one for disc\n",
    "BATCH_SIZE = 1\n",
    "IMAGE_SIZE = 64\n",
    "CHANNELS_IMG = 3\n",
    "NOISE_DIM = 256\n",
    "NUM_EPOCHS = 5\n",
    "FEATURES_DISC = 64\n",
    "FEATURES_GEN = 64\n",
    "\n",
    "transforms = transforms.Compose(\n",
    "    [\n",
    "        transforms.Resize((IMAGE_SIZE, IMAGE_SIZE)),\n",
    "        transforms.ToTensor(),\n",
    "        transforms.Normalize(\n",
    "            [0.5 for _ in range(CHANNELS_IMG)], [0.5 for _ in range(CHANNELS_IMG)]\n",
    "        ),\n",
    "    ]\n",
    ")\n",
    "\n",
    "# If you train on MNIST, remember to set channels_img to 1\n",
    "\n",
    "dataset = CustomDataset()\n",
    "\n",
    "# comment mnist above and uncomment below if train on CelebA\n",
    "# dataset = datasets.ImageFolder(root=\"celeb_dataset\", transform=transforms)\n",
    "dataloader = DataLoader(dataset, batch_size=BATCH_SIZE, shuffle=True)\n",
    "gen = Generator(NOISE_DIM, CHANNELS_IMG, FEATURES_GEN).to(device)\n",
    "disc = Discriminator(CHANNELS_IMG, FEATURES_DISC).to(device)\n",
    "initialize_weights(gen)\n",
    "initialize_weights(disc)\n",
    "\n",
    "opt_gen = optim.Adam(gen.parameters(), lr=LEARNING_RATE, betas=(0.5, 0.999))\n",
    "opt_disc = optim.Adam(disc.parameters(), lr=LEARNING_RATE, betas=(0.5, 0.999))\n",
    "criterion = nn.BCELoss()\n",
    "\n",
    "fixed_noise = torch.randn(32, NOISE_DIM, 1, 1).to(device)\n",
    "writer_real = SummaryWriter(f\"logs/real\")\n",
    "writer_fake = SummaryWriter(f\"logs/fake\")\n",
    "step = 0\n",
    "\n",
    "gen.train()\n",
    "disc.train()\n",
    "\n",
    "for epoch in range(NUM_EPOCHS):\n",
    "    # Target labels not needed! <3 unsupervised\n",
    "    for batch_idx, (real, eeg) in enumerate(dataloader):\n",
    "        real = real.to(device)\n",
    "        noise = eeg.reshape(1, NOISE_DIM, 1, 1).to(device)\n",
    "        fake = gen(noise)\n",
    "\n",
    "        ### Train Discriminator: max log(D(x)) + log(1 - D(G(z)))\n",
    "        disc_real = disc(real).reshape(-1)\n",
    "        loss_disc_real = criterion(disc_real, torch.ones_like(disc_real))\n",
    "        disc_fake = disc(fake.detach()).reshape(-1)\n",
    "        loss_disc_fake = criterion(disc_fake, torch.zeros_like(disc_fake))\n",
    "        loss_disc = (loss_disc_real + loss_disc_fake) / 2\n",
    "        disc.zero_grad()\n",
    "        loss_disc.backward(retain_graph=True)\n",
    "        opt_disc.step()\n",
    "\n",
    "        ### Train Generator: min log(1 - D(G(z))) <-> max log(D(G(z))\n",
    "        output = disc(fake).reshape(-1)\n",
    "        loss_gen = criterion(output, torch.ones_like(output))\n",
    "        gen.zero_grad()\n",
    "        loss_gen.backward(retain_graph=True)\n",
    "        opt_gen.step()\n",
    "\n",
    "        # Print losses occasionally and print to tensorboard\n",
    "        if batch_idx % 100 == 0:\n",
    "            print(\n",
    "                f\"Epoch [{epoch}/{NUM_EPOCHS}] Batch {batch_idx}/{len(dataloader)} \\\n",
    "                  Loss D: {loss_disc:.4f}, loss G: {loss_gen:.4f}\"\n",
    "            )\n",
    "\n",
    "            with torch.no_grad():\n",
    "                fake = gen(fixed_noise)\n",
    "                # take out (up to) 32 examples\n",
    "                img_grid_real = torchvision.utils.make_grid(real[:32], normalize=True)\n",
    "                img_grid_fake = torchvision.utils.make_grid(fake[:32], normalize=True)\n",
    "\n",
    "                writer_real.add_image(\"Real\", img_grid_real, global_step=step)\n",
    "                writer_fake.add_image(\"Fake\", img_grid_fake, global_step=step)\n",
    "\n",
    "            step += 1"
   ]
  }
 ],
 "metadata": {
  "kernelspec": {
   "display_name": "Python 3",
   "language": "python",
   "name": "python3"
  },
  "language_info": {
   "codemirror_mode": {
    "name": "ipython",
    "version": 3
   },
   "file_extension": ".py",
   "mimetype": "text/x-python",
   "name": "python",
   "nbconvert_exporter": "python",
   "pygments_lexer": "ipython3",
   "version": "3.11.0"
  },
  "orig_nbformat": 4
 },
 "nbformat": 4,
 "nbformat_minor": 2
}
